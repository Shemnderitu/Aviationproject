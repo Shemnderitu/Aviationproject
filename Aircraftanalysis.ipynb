{
 "cells": [
  {
   "cell_type": "markdown",
   "id": "3189f3fe",
   "metadata": {},
   "source": [
    "# PROJECT TITLE: RISK PROFILING FOR AIRCRAFT ACQUISITION\n"
   ]
  },
  {
   "cell_type": "markdown",
   "id": "35c94153",
   "metadata": {},
   "source": [
    "## Project Overview\n",
    "- The Company is expanding into new industries to diversify its portfolio. The company is interested in purchasing and operating airplanes for commercial and private enterprises.\n",
    "- In this project we will analyze a dataset from the National Transportation Safety Board (NTSB) that includes aviation accident data from 1962 to 2023 about civil aviation accidents and selected incidents in the United States and International waters.\n",
    "- The goal is to analyze NTSB accident data to determine which aircraft are the lowest risk for the company to start a new business endeavor.\n",
    "- This project will use data science techniques such as data cleaning, imputation, analysis, and visualization to generate insights for a business stakeholder. \n",
    "- At the end, this data-driven analysis will yield concrete business recommendations for how the company will move forward with the new aviation opportunity.\n"
   ]
  },
  {
   "cell_type": "markdown",
   "id": "d9a874b0",
   "metadata": {},
   "source": [
    "## Aircraft Risk Analysis"
   ]
  },
  {
   "cell_type": "markdown",
   "id": "b9328ea6",
   "metadata": {},
   "source": [
    "### 1. Data Preprocessing and Analysis"
   ]
  },
  {
   "cell_type": "code",
   "execution_count": 36,
   "id": "0ed3fa86",
   "metadata": {},
   "outputs": [],
   "source": [
    "# Import all libraries needed for the analysis\n",
    "# Importing libraries\n",
    "import pandas as pd\n",
    "import numpy as np\n",
    "import matplotlib.pyplot as plt\n",
    "import seaborn as sns"
   ]
  },
  {
   "cell_type": "code",
   "execution_count": 37,
   "id": "f2bb5326",
   "metadata": {},
   "outputs": [],
   "source": [
    "# Load the dataset from NTSB that includes aviation accident data from 1962 to 2023\n",
    "aviation_data = pd.read_csv(r\"data\\AviationData.csv\", encoding='ISO-8859-1', low_memory=False, delimiter=',')\n"
   ]
  },
  {
   "cell_type": "code",
   "execution_count": 38,
   "id": "fcd2b155",
   "metadata": {},
   "outputs": [],
   "source": [
    "# Load the dataset that contains US state codes\n",
    "USState_codes = pd.read_csv(r\"data\\USState_Codes.csv\", encoding='ISO-8859-1', low_memory=False, delimiter=',')"
   ]
  },
  {
   "cell_type": "code",
   "execution_count": 39,
   "id": "0510e307",
   "metadata": {},
   "outputs": [
    {
     "data": {
      "text/html": [
       "<div>\n",
       "<style scoped>\n",
       "    .dataframe tbody tr th:only-of-type {\n",
       "        vertical-align: middle;\n",
       "    }\n",
       "\n",
       "    .dataframe tbody tr th {\n",
       "        vertical-align: top;\n",
       "    }\n",
       "\n",
       "    .dataframe thead th {\n",
       "        text-align: right;\n",
       "    }\n",
       "</style>\n",
       "<table border=\"1\" class=\"dataframe\">\n",
       "  <thead>\n",
       "    <tr style=\"text-align: right;\">\n",
       "      <th></th>\n",
       "      <th>Event.Id</th>\n",
       "      <th>Investigation.Type</th>\n",
       "      <th>Accident.Number</th>\n",
       "      <th>Event.Date</th>\n",
       "      <th>Location</th>\n",
       "      <th>Country</th>\n",
       "      <th>Latitude</th>\n",
       "      <th>Longitude</th>\n",
       "      <th>Airport.Code</th>\n",
       "      <th>Airport.Name</th>\n",
       "      <th>...</th>\n",
       "      <th>Purpose.of.flight</th>\n",
       "      <th>Air.carrier</th>\n",
       "      <th>Total.Fatal.Injuries</th>\n",
       "      <th>Total.Serious.Injuries</th>\n",
       "      <th>Total.Minor.Injuries</th>\n",
       "      <th>Total.Uninjured</th>\n",
       "      <th>Weather.Condition</th>\n",
       "      <th>Broad.phase.of.flight</th>\n",
       "      <th>Report.Status</th>\n",
       "      <th>Publication.Date</th>\n",
       "    </tr>\n",
       "  </thead>\n",
       "  <tbody>\n",
       "    <tr>\n",
       "      <th>0</th>\n",
       "      <td>20001218X45444</td>\n",
       "      <td>Accident</td>\n",
       "      <td>SEA87LA080</td>\n",
       "      <td>1948-10-24</td>\n",
       "      <td>MOOSE CREEK, ID</td>\n",
       "      <td>United States</td>\n",
       "      <td>NaN</td>\n",
       "      <td>NaN</td>\n",
       "      <td>NaN</td>\n",
       "      <td>NaN</td>\n",
       "      <td>...</td>\n",
       "      <td>Personal</td>\n",
       "      <td>NaN</td>\n",
       "      <td>2.0</td>\n",
       "      <td>0.0</td>\n",
       "      <td>0.0</td>\n",
       "      <td>0.0</td>\n",
       "      <td>UNK</td>\n",
       "      <td>Cruise</td>\n",
       "      <td>Probable Cause</td>\n",
       "      <td>NaN</td>\n",
       "    </tr>\n",
       "    <tr>\n",
       "      <th>1</th>\n",
       "      <td>20001218X45447</td>\n",
       "      <td>Accident</td>\n",
       "      <td>LAX94LA336</td>\n",
       "      <td>1962-07-19</td>\n",
       "      <td>BRIDGEPORT, CA</td>\n",
       "      <td>United States</td>\n",
       "      <td>NaN</td>\n",
       "      <td>NaN</td>\n",
       "      <td>NaN</td>\n",
       "      <td>NaN</td>\n",
       "      <td>...</td>\n",
       "      <td>Personal</td>\n",
       "      <td>NaN</td>\n",
       "      <td>4.0</td>\n",
       "      <td>0.0</td>\n",
       "      <td>0.0</td>\n",
       "      <td>0.0</td>\n",
       "      <td>UNK</td>\n",
       "      <td>Unknown</td>\n",
       "      <td>Probable Cause</td>\n",
       "      <td>19-09-1996</td>\n",
       "    </tr>\n",
       "    <tr>\n",
       "      <th>2</th>\n",
       "      <td>20061025X01555</td>\n",
       "      <td>Accident</td>\n",
       "      <td>NYC07LA005</td>\n",
       "      <td>1974-08-30</td>\n",
       "      <td>Saltville, VA</td>\n",
       "      <td>United States</td>\n",
       "      <td>36.922223</td>\n",
       "      <td>-81.878056</td>\n",
       "      <td>NaN</td>\n",
       "      <td>NaN</td>\n",
       "      <td>...</td>\n",
       "      <td>Personal</td>\n",
       "      <td>NaN</td>\n",
       "      <td>3.0</td>\n",
       "      <td>NaN</td>\n",
       "      <td>NaN</td>\n",
       "      <td>NaN</td>\n",
       "      <td>IMC</td>\n",
       "      <td>Cruise</td>\n",
       "      <td>Probable Cause</td>\n",
       "      <td>26-02-2007</td>\n",
       "    </tr>\n",
       "    <tr>\n",
       "      <th>3</th>\n",
       "      <td>20001218X45448</td>\n",
       "      <td>Accident</td>\n",
       "      <td>LAX96LA321</td>\n",
       "      <td>1977-06-19</td>\n",
       "      <td>EUREKA, CA</td>\n",
       "      <td>United States</td>\n",
       "      <td>NaN</td>\n",
       "      <td>NaN</td>\n",
       "      <td>NaN</td>\n",
       "      <td>NaN</td>\n",
       "      <td>...</td>\n",
       "      <td>Personal</td>\n",
       "      <td>NaN</td>\n",
       "      <td>2.0</td>\n",
       "      <td>0.0</td>\n",
       "      <td>0.0</td>\n",
       "      <td>0.0</td>\n",
       "      <td>IMC</td>\n",
       "      <td>Cruise</td>\n",
       "      <td>Probable Cause</td>\n",
       "      <td>12-09-2000</td>\n",
       "    </tr>\n",
       "    <tr>\n",
       "      <th>4</th>\n",
       "      <td>20041105X01764</td>\n",
       "      <td>Accident</td>\n",
       "      <td>CHI79FA064</td>\n",
       "      <td>1979-08-02</td>\n",
       "      <td>Canton, OH</td>\n",
       "      <td>United States</td>\n",
       "      <td>NaN</td>\n",
       "      <td>NaN</td>\n",
       "      <td>NaN</td>\n",
       "      <td>NaN</td>\n",
       "      <td>...</td>\n",
       "      <td>Personal</td>\n",
       "      <td>NaN</td>\n",
       "      <td>1.0</td>\n",
       "      <td>2.0</td>\n",
       "      <td>NaN</td>\n",
       "      <td>0.0</td>\n",
       "      <td>VMC</td>\n",
       "      <td>Approach</td>\n",
       "      <td>Probable Cause</td>\n",
       "      <td>16-04-1980</td>\n",
       "    </tr>\n",
       "  </tbody>\n",
       "</table>\n",
       "<p>5 rows × 31 columns</p>\n",
       "</div>"
      ],
      "text/plain": [
       "         Event.Id Investigation.Type Accident.Number  Event.Date  \\\n",
       "0  20001218X45444           Accident      SEA87LA080  1948-10-24   \n",
       "1  20001218X45447           Accident      LAX94LA336  1962-07-19   \n",
       "2  20061025X01555           Accident      NYC07LA005  1974-08-30   \n",
       "3  20001218X45448           Accident      LAX96LA321  1977-06-19   \n",
       "4  20041105X01764           Accident      CHI79FA064  1979-08-02   \n",
       "\n",
       "          Location        Country   Latitude   Longitude Airport.Code  \\\n",
       "0  MOOSE CREEK, ID  United States        NaN         NaN          NaN   \n",
       "1   BRIDGEPORT, CA  United States        NaN         NaN          NaN   \n",
       "2    Saltville, VA  United States  36.922223  -81.878056          NaN   \n",
       "3       EUREKA, CA  United States        NaN         NaN          NaN   \n",
       "4       Canton, OH  United States        NaN         NaN          NaN   \n",
       "\n",
       "  Airport.Name  ... Purpose.of.flight Air.carrier Total.Fatal.Injuries  \\\n",
       "0          NaN  ...          Personal         NaN                  2.0   \n",
       "1          NaN  ...          Personal         NaN                  4.0   \n",
       "2          NaN  ...          Personal         NaN                  3.0   \n",
       "3          NaN  ...          Personal         NaN                  2.0   \n",
       "4          NaN  ...          Personal         NaN                  1.0   \n",
       "\n",
       "  Total.Serious.Injuries Total.Minor.Injuries Total.Uninjured  \\\n",
       "0                    0.0                  0.0             0.0   \n",
       "1                    0.0                  0.0             0.0   \n",
       "2                    NaN                  NaN             NaN   \n",
       "3                    0.0                  0.0             0.0   \n",
       "4                    2.0                  NaN             0.0   \n",
       "\n",
       "  Weather.Condition  Broad.phase.of.flight   Report.Status Publication.Date  \n",
       "0               UNK                 Cruise  Probable Cause              NaN  \n",
       "1               UNK                Unknown  Probable Cause       19-09-1996  \n",
       "2               IMC                 Cruise  Probable Cause       26-02-2007  \n",
       "3               IMC                 Cruise  Probable Cause       12-09-2000  \n",
       "4               VMC               Approach  Probable Cause       16-04-1980  \n",
       "\n",
       "[5 rows x 31 columns]"
      ]
     },
     "execution_count": 39,
     "metadata": {},
     "output_type": "execute_result"
    }
   ],
   "source": [
    "# Preview the first few rows of the dataset to understand its structure and contents\n",
    "aviation_data.head()"
   ]
  },
  {
   "cell_type": "code",
   "execution_count": 40,
   "id": "3615a31a",
   "metadata": {},
   "outputs": [
    {
     "data": {
      "text/html": [
       "<div>\n",
       "<style scoped>\n",
       "    .dataframe tbody tr th:only-of-type {\n",
       "        vertical-align: middle;\n",
       "    }\n",
       "\n",
       "    .dataframe tbody tr th {\n",
       "        vertical-align: top;\n",
       "    }\n",
       "\n",
       "    .dataframe thead th {\n",
       "        text-align: right;\n",
       "    }\n",
       "</style>\n",
       "<table border=\"1\" class=\"dataframe\">\n",
       "  <thead>\n",
       "    <tr style=\"text-align: right;\">\n",
       "      <th></th>\n",
       "      <th>US_State</th>\n",
       "      <th>Abbreviation</th>\n",
       "    </tr>\n",
       "  </thead>\n",
       "  <tbody>\n",
       "    <tr>\n",
       "      <th>0</th>\n",
       "      <td>Alabama</td>\n",
       "      <td>AL</td>\n",
       "    </tr>\n",
       "    <tr>\n",
       "      <th>1</th>\n",
       "      <td>Alaska</td>\n",
       "      <td>AK</td>\n",
       "    </tr>\n",
       "    <tr>\n",
       "      <th>2</th>\n",
       "      <td>Arizona</td>\n",
       "      <td>AZ</td>\n",
       "    </tr>\n",
       "    <tr>\n",
       "      <th>3</th>\n",
       "      <td>Arkansas</td>\n",
       "      <td>AR</td>\n",
       "    </tr>\n",
       "    <tr>\n",
       "      <th>4</th>\n",
       "      <td>California</td>\n",
       "      <td>CA</td>\n",
       "    </tr>\n",
       "  </tbody>\n",
       "</table>\n",
       "</div>"
      ],
      "text/plain": [
       "     US_State Abbreviation\n",
       "0     Alabama           AL\n",
       "1      Alaska           AK\n",
       "2     Arizona           AZ\n",
       "3    Arkansas           AR\n",
       "4  California           CA"
      ]
     },
     "execution_count": 40,
     "metadata": {},
     "output_type": "execute_result"
    }
   ],
   "source": [
    "USState_codes.head()"
   ]
  },
  {
   "cell_type": "code",
   "execution_count": 41,
   "id": "4417b112",
   "metadata": {},
   "outputs": [
    {
     "name": "stdout",
     "output_type": "stream",
     "text": [
      "<class 'pandas.core.frame.DataFrame'>\n",
      "RangeIndex: 88889 entries, 0 to 88888\n",
      "Data columns (total 31 columns):\n",
      " #   Column                  Non-Null Count  Dtype  \n",
      "---  ------                  --------------  -----  \n",
      " 0   Event.Id                88889 non-null  object \n",
      " 1   Investigation.Type      88889 non-null  object \n",
      " 2   Accident.Number         88889 non-null  object \n",
      " 3   Event.Date              88889 non-null  object \n",
      " 4   Location                88837 non-null  object \n",
      " 5   Country                 88663 non-null  object \n",
      " 6   Latitude                34382 non-null  object \n",
      " 7   Longitude               34373 non-null  object \n",
      " 8   Airport.Code            50249 non-null  object \n",
      " 9   Airport.Name            52790 non-null  object \n",
      " 10  Injury.Severity         87889 non-null  object \n",
      " 11  Aircraft.damage         85695 non-null  object \n",
      " 12  Aircraft.Category       32287 non-null  object \n",
      " 13  Registration.Number     87572 non-null  object \n",
      " 14  Make                    88826 non-null  object \n",
      " 15  Model                   88797 non-null  object \n",
      " 16  Amateur.Built           88787 non-null  object \n",
      " 17  Number.of.Engines       82805 non-null  float64\n",
      " 18  Engine.Type             81812 non-null  object \n",
      " 19  FAR.Description         32023 non-null  object \n",
      " 20  Schedule                12582 non-null  object \n",
      " 21  Purpose.of.flight       82697 non-null  object \n",
      " 22  Air.carrier             16648 non-null  object \n",
      " 23  Total.Fatal.Injuries    77488 non-null  float64\n",
      " 24  Total.Serious.Injuries  76379 non-null  float64\n",
      " 25  Total.Minor.Injuries    76956 non-null  float64\n",
      " 26  Total.Uninjured         82977 non-null  float64\n",
      " 27  Weather.Condition       84397 non-null  object \n",
      " 28  Broad.phase.of.flight   61724 non-null  object \n",
      " 29  Report.Status           82508 non-null  object \n",
      " 30  Publication.Date        75118 non-null  object \n",
      "dtypes: float64(5), object(26)\n",
      "memory usage: 21.0+ MB\n"
     ]
    }
   ],
   "source": [
    "# Information about the dataset, including the number of entries and data types of each column\n",
    "aviation_data.info()"
   ]
  },
  {
   "cell_type": "code",
   "execution_count": 42,
   "id": "43e08671",
   "metadata": {},
   "outputs": [
    {
     "data": {
      "text/html": [
       "<div>\n",
       "<style scoped>\n",
       "    .dataframe tbody tr th:only-of-type {\n",
       "        vertical-align: middle;\n",
       "    }\n",
       "\n",
       "    .dataframe tbody tr th {\n",
       "        vertical-align: top;\n",
       "    }\n",
       "\n",
       "    .dataframe thead th {\n",
       "        text-align: right;\n",
       "    }\n",
       "</style>\n",
       "<table border=\"1\" class=\"dataframe\">\n",
       "  <thead>\n",
       "    <tr style=\"text-align: right;\">\n",
       "      <th></th>\n",
       "      <th>Number.of.Engines</th>\n",
       "      <th>Total.Fatal.Injuries</th>\n",
       "      <th>Total.Serious.Injuries</th>\n",
       "      <th>Total.Minor.Injuries</th>\n",
       "      <th>Total.Uninjured</th>\n",
       "    </tr>\n",
       "  </thead>\n",
       "  <tbody>\n",
       "    <tr>\n",
       "      <th>count</th>\n",
       "      <td>82805.000000</td>\n",
       "      <td>77488.000000</td>\n",
       "      <td>76379.000000</td>\n",
       "      <td>76956.000000</td>\n",
       "      <td>82977.000000</td>\n",
       "    </tr>\n",
       "    <tr>\n",
       "      <th>mean</th>\n",
       "      <td>1.146585</td>\n",
       "      <td>0.647855</td>\n",
       "      <td>0.279881</td>\n",
       "      <td>0.357061</td>\n",
       "      <td>5.325440</td>\n",
       "    </tr>\n",
       "    <tr>\n",
       "      <th>std</th>\n",
       "      <td>0.446510</td>\n",
       "      <td>5.485960</td>\n",
       "      <td>1.544084</td>\n",
       "      <td>2.235625</td>\n",
       "      <td>27.913634</td>\n",
       "    </tr>\n",
       "    <tr>\n",
       "      <th>min</th>\n",
       "      <td>0.000000</td>\n",
       "      <td>0.000000</td>\n",
       "      <td>0.000000</td>\n",
       "      <td>0.000000</td>\n",
       "      <td>0.000000</td>\n",
       "    </tr>\n",
       "    <tr>\n",
       "      <th>25%</th>\n",
       "      <td>1.000000</td>\n",
       "      <td>0.000000</td>\n",
       "      <td>0.000000</td>\n",
       "      <td>0.000000</td>\n",
       "      <td>0.000000</td>\n",
       "    </tr>\n",
       "    <tr>\n",
       "      <th>50%</th>\n",
       "      <td>1.000000</td>\n",
       "      <td>0.000000</td>\n",
       "      <td>0.000000</td>\n",
       "      <td>0.000000</td>\n",
       "      <td>1.000000</td>\n",
       "    </tr>\n",
       "    <tr>\n",
       "      <th>75%</th>\n",
       "      <td>1.000000</td>\n",
       "      <td>0.000000</td>\n",
       "      <td>0.000000</td>\n",
       "      <td>0.000000</td>\n",
       "      <td>2.000000</td>\n",
       "    </tr>\n",
       "    <tr>\n",
       "      <th>max</th>\n",
       "      <td>8.000000</td>\n",
       "      <td>349.000000</td>\n",
       "      <td>161.000000</td>\n",
       "      <td>380.000000</td>\n",
       "      <td>699.000000</td>\n",
       "    </tr>\n",
       "  </tbody>\n",
       "</table>\n",
       "</div>"
      ],
      "text/plain": [
       "       Number.of.Engines  Total.Fatal.Injuries  Total.Serious.Injuries  \\\n",
       "count       82805.000000          77488.000000            76379.000000   \n",
       "mean            1.146585              0.647855                0.279881   \n",
       "std             0.446510              5.485960                1.544084   \n",
       "min             0.000000              0.000000                0.000000   \n",
       "25%             1.000000              0.000000                0.000000   \n",
       "50%             1.000000              0.000000                0.000000   \n",
       "75%             1.000000              0.000000                0.000000   \n",
       "max             8.000000            349.000000              161.000000   \n",
       "\n",
       "       Total.Minor.Injuries  Total.Uninjured  \n",
       "count          76956.000000     82977.000000  \n",
       "mean               0.357061         5.325440  \n",
       "std                2.235625        27.913634  \n",
       "min                0.000000         0.000000  \n",
       "25%                0.000000         0.000000  \n",
       "50%                0.000000         1.000000  \n",
       "75%                0.000000         2.000000  \n",
       "max              380.000000       699.000000  "
      ]
     },
     "execution_count": 42,
     "metadata": {},
     "output_type": "execute_result"
    }
   ],
   "source": [
    "# Describe the dataset to get a summary of the numerical columns\n",
    "aviation_data.describe()"
   ]
  },
  {
   "cell_type": "code",
   "execution_count": 43,
   "id": "2ce7c438",
   "metadata": {},
   "outputs": [
    {
     "data": {
      "text/plain": [
       "Event.Id                      0\n",
       "Investigation.Type            0\n",
       "Accident.Number               0\n",
       "Event.Date                    0\n",
       "Location                     52\n",
       "Country                     226\n",
       "Latitude                  54507\n",
       "Longitude                 54516\n",
       "Airport.Code              38640\n",
       "Airport.Name              36099\n",
       "Injury.Severity            1000\n",
       "Aircraft.damage            3194\n",
       "Aircraft.Category         56602\n",
       "Registration.Number        1317\n",
       "Make                         63\n",
       "Model                        92\n",
       "Amateur.Built               102\n",
       "Number.of.Engines          6084\n",
       "Engine.Type                7077\n",
       "FAR.Description           56866\n",
       "Schedule                  76307\n",
       "Purpose.of.flight          6192\n",
       "Air.carrier               72241\n",
       "Total.Fatal.Injuries      11401\n",
       "Total.Serious.Injuries    12510\n",
       "Total.Minor.Injuries      11933\n",
       "Total.Uninjured            5912\n",
       "Weather.Condition          4492\n",
       "Broad.phase.of.flight     27165\n",
       "Report.Status              6381\n",
       "Publication.Date          13771\n",
       "dtype: int64"
      ]
     },
     "execution_count": 43,
     "metadata": {},
     "output_type": "execute_result"
    }
   ],
   "source": [
    "# Check for missing values in the dataset\n",
    "aviation_data.isnull().sum()"
   ]
  },
  {
   "cell_type": "code",
   "execution_count": 44,
   "id": "fcf7af81",
   "metadata": {},
   "outputs": [
    {
     "data": {
      "text/plain": [
       "Event.Id                  87951\n",
       "Investigation.Type            2\n",
       "Accident.Number           88863\n",
       "Event.Date                14782\n",
       "Location                  27758\n",
       "Country                     219\n",
       "Latitude                  25589\n",
       "Longitude                 27154\n",
       "Airport.Code              10375\n",
       "Airport.Name              24871\n",
       "Injury.Severity             109\n",
       "Aircraft.damage               4\n",
       "Aircraft.Category            15\n",
       "Registration.Number       79105\n",
       "Make                       8237\n",
       "Model                     12318\n",
       "Amateur.Built                 2\n",
       "Number.of.Engines             7\n",
       "Engine.Type                  13\n",
       "FAR.Description              31\n",
       "Schedule                      3\n",
       "Purpose.of.flight            26\n",
       "Air.carrier               13590\n",
       "Total.Fatal.Injuries        125\n",
       "Total.Serious.Injuries       50\n",
       "Total.Minor.Injuries         57\n",
       "Total.Uninjured             379\n",
       "Weather.Condition             4\n",
       "Broad.phase.of.flight        12\n",
       "Report.Status             17075\n",
       "Publication.Date           2924\n",
       "dtype: int64"
      ]
     },
     "execution_count": 44,
     "metadata": {},
     "output_type": "execute_result"
    }
   ],
   "source": [
    "# Check the number of unique values in each column to understand the diversity of data\n",
    "aviation_data.nunique()"
   ]
  },
  {
   "cell_type": "code",
   "execution_count": 45,
   "id": "5ab050de",
   "metadata": {},
   "outputs": [
    {
     "data": {
      "text/plain": [
       "ANCHORAGE, AK      434\n",
       "MIAMI, FL          200\n",
       "ALBUQUERQUE, NM    196\n",
       "HOUSTON, TX        193\n",
       "CHICAGO, IL        184\n",
       "FAIRBANKS, AK      174\n",
       "TUCSON, AZ         142\n",
       "PHOENIX, AZ        132\n",
       "ORLANDO, FL        132\n",
       "ENGLEWOOD, CO      131\n",
       "Name: Location, dtype: int64"
      ]
     },
     "execution_count": 45,
     "metadata": {},
     "output_type": "execute_result"
    }
   ],
   "source": [
    "# Check the distribution of the 'Location' column to see the most common locations of aviation accidents\n",
    "aviation_data['Location'].value_counts().head(10) "
   ]
  },
  {
   "cell_type": "markdown",
   "id": "56fb599c",
   "metadata": {},
   "source": [
    "### 2. Data Cleaning"
   ]
  },
  {
   "cell_type": "code",
   "execution_count": 46,
   "id": "1e4d3e31",
   "metadata": {},
   "outputs": [],
   "source": [
    "#Handle missing values in the dataset by dropping rows with missing values\n",
    "aviation_data = aviation_data.dropna(subset = ['Event.Id', 'Airport.Code', 'Airport.Name', 'Registration.Number', 'FAR.Description', 'Air.carrier', 'Report.Status', 'Publication.Date', 'Latitude', 'Longitude', 'Injury.Severity', 'Aircraft.damage', 'Aircraft.Category', 'Make', 'Model', 'Number.of.Engines', 'Engine.Type', 'Purpose.of.flight', 'Weather.Condition'])"
   ]
  },
  {
   "cell_type": "code",
   "execution_count": 47,
   "id": "9256645f",
   "metadata": {},
   "outputs": [
    {
     "name": "stdout",
     "output_type": "stream",
     "text": [
      "<class 'pandas.core.frame.DataFrame'>\n",
      "Int64Index: 6132 entries, 63693 to 88600\n",
      "Data columns (total 31 columns):\n",
      " #   Column                  Non-Null Count  Dtype  \n",
      "---  ------                  --------------  -----  \n",
      " 0   Event.Id                6132 non-null   object \n",
      " 1   Investigation.Type      6132 non-null   object \n",
      " 2   Accident.Number         6132 non-null   object \n",
      " 3   Event.Date              6132 non-null   object \n",
      " 4   Location                6132 non-null   object \n",
      " 5   Country                 6132 non-null   object \n",
      " 6   Latitude                6132 non-null   object \n",
      " 7   Longitude               6132 non-null   object \n",
      " 8   Airport.Code            6132 non-null   object \n",
      " 9   Airport.Name            6132 non-null   object \n",
      " 10  Injury.Severity         6132 non-null   object \n",
      " 11  Aircraft.damage         6132 non-null   object \n",
      " 12  Aircraft.Category       6132 non-null   object \n",
      " 13  Registration.Number     6132 non-null   object \n",
      " 14  Make                    6132 non-null   object \n",
      " 15  Model                   6132 non-null   object \n",
      " 16  Amateur.Built           6132 non-null   object \n",
      " 17  Number.of.Engines       6132 non-null   float64\n",
      " 18  Engine.Type             6132 non-null   object \n",
      " 19  FAR.Description         6132 non-null   object \n",
      " 20  Schedule                89 non-null     object \n",
      " 21  Purpose.of.flight       6132 non-null   object \n",
      " 22  Air.carrier             6132 non-null   object \n",
      " 23  Total.Fatal.Injuries    6131 non-null   float64\n",
      " 24  Total.Serious.Injuries  6131 non-null   float64\n",
      " 25  Total.Minor.Injuries    6131 non-null   float64\n",
      " 26  Total.Uninjured         6132 non-null   float64\n",
      " 27  Weather.Condition       6132 non-null   object \n",
      " 28  Broad.phase.of.flight   1 non-null      object \n",
      " 29  Report.Status           6132 non-null   object \n",
      " 30  Publication.Date        6132 non-null   object \n",
      "dtypes: float64(5), object(26)\n",
      "memory usage: 1.5+ MB\n"
     ]
    }
   ],
   "source": [
    "# Check the information of the cleaned dataset to ensure the rows have been dropped successfully\n",
    "aviation_data.info()"
   ]
  },
  {
   "cell_type": "code",
   "execution_count": 48,
   "id": "d4576f0e",
   "metadata": {},
   "outputs": [],
   "source": [
    "# Drop irrelevant columns\n",
    "columns_to_drop = ['Event.Id', 'Airport.Code', 'Airport.Name', 'Registration.Number', 'FAR.Description', 'Air.carrier', 'Report.Status', 'Publication.Date', 'Accident.Number', 'Schedule', 'Broad.phase.of.flight']\n",
    "aviation_data = aviation_data.drop(columns=[col for col in columns_to_drop if col in aviation_data.columns])"
   ]
  },
  {
   "cell_type": "code",
   "execution_count": 49,
   "id": "8f69a2a4",
   "metadata": {},
   "outputs": [
    {
     "name": "stdout",
     "output_type": "stream",
     "text": [
      "<class 'pandas.core.frame.DataFrame'>\n",
      "Int64Index: 6132 entries, 63693 to 88600\n",
      "Data columns (total 20 columns):\n",
      " #   Column                  Non-Null Count  Dtype  \n",
      "---  ------                  --------------  -----  \n",
      " 0   Investigation.Type      6132 non-null   object \n",
      " 1   Event.Date              6132 non-null   object \n",
      " 2   Location                6132 non-null   object \n",
      " 3   Country                 6132 non-null   object \n",
      " 4   Latitude                6132 non-null   object \n",
      " 5   Longitude               6132 non-null   object \n",
      " 6   Injury.Severity         6132 non-null   object \n",
      " 7   Aircraft.damage         6132 non-null   object \n",
      " 8   Aircraft.Category       6132 non-null   object \n",
      " 9   Make                    6132 non-null   object \n",
      " 10  Model                   6132 non-null   object \n",
      " 11  Amateur.Built           6132 non-null   object \n",
      " 12  Number.of.Engines       6132 non-null   float64\n",
      " 13  Engine.Type             6132 non-null   object \n",
      " 14  Purpose.of.flight       6132 non-null   object \n",
      " 15  Total.Fatal.Injuries    6131 non-null   float64\n",
      " 16  Total.Serious.Injuries  6131 non-null   float64\n",
      " 17  Total.Minor.Injuries    6131 non-null   float64\n",
      " 18  Total.Uninjured         6132 non-null   float64\n",
      " 19  Weather.Condition       6132 non-null   object \n",
      "dtypes: float64(5), object(15)\n",
      "memory usage: 1006.0+ KB\n"
     ]
    }
   ],
   "source": [
    "# Check the information of the cleaned dataset to ensure the colums have been dropped successfully\n",
    "aviation_data.info()"
   ]
  },
  {
   "cell_type": "code",
   "execution_count": 50,
   "id": "21de2874",
   "metadata": {},
   "outputs": [],
   "source": [
    "# Display all the columns in the dataset to understand its structure better\n",
    "pd.set_option('display.max_columns',20)"
   ]
  },
  {
   "cell_type": "code",
   "execution_count": 51,
   "id": "bd40da9d",
   "metadata": {},
   "outputs": [
    {
     "data": {
      "text/html": [
       "<div>\n",
       "<style scoped>\n",
       "    .dataframe tbody tr th:only-of-type {\n",
       "        vertical-align: middle;\n",
       "    }\n",
       "\n",
       "    .dataframe tbody tr th {\n",
       "        vertical-align: top;\n",
       "    }\n",
       "\n",
       "    .dataframe thead th {\n",
       "        text-align: right;\n",
       "    }\n",
       "</style>\n",
       "<table border=\"1\" class=\"dataframe\">\n",
       "  <thead>\n",
       "    <tr style=\"text-align: right;\">\n",
       "      <th></th>\n",
       "      <th>Investigation.Type</th>\n",
       "      <th>Event.Date</th>\n",
       "      <th>Location</th>\n",
       "      <th>Country</th>\n",
       "      <th>Latitude</th>\n",
       "      <th>Longitude</th>\n",
       "      <th>Injury.Severity</th>\n",
       "      <th>Aircraft.damage</th>\n",
       "      <th>Aircraft.Category</th>\n",
       "      <th>Make</th>\n",
       "      <th>Model</th>\n",
       "      <th>Amateur.Built</th>\n",
       "      <th>Number.of.Engines</th>\n",
       "      <th>Engine.Type</th>\n",
       "      <th>Purpose.of.flight</th>\n",
       "      <th>Total.Fatal.Injuries</th>\n",
       "      <th>Total.Serious.Injuries</th>\n",
       "      <th>Total.Minor.Injuries</th>\n",
       "      <th>Total.Uninjured</th>\n",
       "      <th>Weather.Condition</th>\n",
       "    </tr>\n",
       "  </thead>\n",
       "  <tbody>\n",
       "    <tr>\n",
       "      <th>63693</th>\n",
       "      <td>Accident</td>\n",
       "      <td>2007-11-06</td>\n",
       "      <td>OPA LOCKA, FL</td>\n",
       "      <td>United States</td>\n",
       "      <td>25.904167</td>\n",
       "      <td>-80.273611</td>\n",
       "      <td>Non-Fatal</td>\n",
       "      <td>Substantial</td>\n",
       "      <td>Airplane</td>\n",
       "      <td>Cessna</td>\n",
       "      <td>C208B</td>\n",
       "      <td>No</td>\n",
       "      <td>1.0</td>\n",
       "      <td>Turbo Prop</td>\n",
       "      <td>Business</td>\n",
       "      <td>NaN</td>\n",
       "      <td>NaN</td>\n",
       "      <td>NaN</td>\n",
       "      <td>2.0</td>\n",
       "      <td>VMC</td>\n",
       "    </tr>\n",
       "    <tr>\n",
       "      <th>63913</th>\n",
       "      <td>Accident</td>\n",
       "      <td>2008-01-01</td>\n",
       "      <td>Sonoma, CA</td>\n",
       "      <td>United States</td>\n",
       "      <td>381326N</td>\n",
       "      <td>1222659W</td>\n",
       "      <td>Non-Fatal</td>\n",
       "      <td>Substantial</td>\n",
       "      <td>Airplane</td>\n",
       "      <td>Barnard/Stancil</td>\n",
       "      <td>Glastar</td>\n",
       "      <td>Yes</td>\n",
       "      <td>1.0</td>\n",
       "      <td>Reciprocating</td>\n",
       "      <td>Personal</td>\n",
       "      <td>0.0</td>\n",
       "      <td>0.0</td>\n",
       "      <td>0.0</td>\n",
       "      <td>3.0</td>\n",
       "      <td>VMC</td>\n",
       "    </tr>\n",
       "    <tr>\n",
       "      <th>63915</th>\n",
       "      <td>Accident</td>\n",
       "      <td>2008-01-02</td>\n",
       "      <td>Loveland, CO</td>\n",
       "      <td>United States</td>\n",
       "      <td>040276N</td>\n",
       "      <td>0010504W</td>\n",
       "      <td>Non-Fatal</td>\n",
       "      <td>Substantial</td>\n",
       "      <td>Airplane</td>\n",
       "      <td>Cessna</td>\n",
       "      <td>152</td>\n",
       "      <td>No</td>\n",
       "      <td>1.0</td>\n",
       "      <td>Reciprocating</td>\n",
       "      <td>Instructional</td>\n",
       "      <td>0.0</td>\n",
       "      <td>0.0</td>\n",
       "      <td>0.0</td>\n",
       "      <td>1.0</td>\n",
       "      <td>VMC</td>\n",
       "    </tr>\n",
       "    <tr>\n",
       "      <th>63916</th>\n",
       "      <td>Accident</td>\n",
       "      <td>2008-01-02</td>\n",
       "      <td>Brunswick, GA</td>\n",
       "      <td>United States</td>\n",
       "      <td>003196N</td>\n",
       "      <td>0812328W</td>\n",
       "      <td>Non-Fatal</td>\n",
       "      <td>Substantial</td>\n",
       "      <td>Airplane</td>\n",
       "      <td>Beech</td>\n",
       "      <td>A36</td>\n",
       "      <td>No</td>\n",
       "      <td>1.0</td>\n",
       "      <td>Reciprocating</td>\n",
       "      <td>Business</td>\n",
       "      <td>0.0</td>\n",
       "      <td>0.0</td>\n",
       "      <td>0.0</td>\n",
       "      <td>3.0</td>\n",
       "      <td>VMC</td>\n",
       "    </tr>\n",
       "    <tr>\n",
       "      <th>63923</th>\n",
       "      <td>Accident</td>\n",
       "      <td>2008-01-05</td>\n",
       "      <td>Laurel, MD</td>\n",
       "      <td>United States</td>\n",
       "      <td>039436N</td>\n",
       "      <td>0764940W</td>\n",
       "      <td>Non-Fatal</td>\n",
       "      <td>Substantial</td>\n",
       "      <td>Airplane</td>\n",
       "      <td>DEAN PATRICK G</td>\n",
       "      <td>GENESIS</td>\n",
       "      <td>Yes</td>\n",
       "      <td>1.0</td>\n",
       "      <td>Reciprocating</td>\n",
       "      <td>Personal</td>\n",
       "      <td>0.0</td>\n",
       "      <td>1.0</td>\n",
       "      <td>0.0</td>\n",
       "      <td>0.0</td>\n",
       "      <td>VMC</td>\n",
       "    </tr>\n",
       "  </tbody>\n",
       "</table>\n",
       "</div>"
      ],
      "text/plain": [
       "      Investigation.Type  Event.Date       Location        Country   Latitude  \\\n",
       "63693           Accident  2007-11-06  OPA LOCKA, FL  United States  25.904167   \n",
       "63913           Accident  2008-01-01     Sonoma, CA  United States    381326N   \n",
       "63915           Accident  2008-01-02   Loveland, CO  United States    040276N   \n",
       "63916           Accident  2008-01-02  Brunswick, GA  United States    003196N   \n",
       "63923           Accident  2008-01-05     Laurel, MD  United States    039436N   \n",
       "\n",
       "        Longitude Injury.Severity Aircraft.damage Aircraft.Category  \\\n",
       "63693  -80.273611       Non-Fatal     Substantial          Airplane   \n",
       "63913    1222659W       Non-Fatal     Substantial          Airplane   \n",
       "63915    0010504W       Non-Fatal     Substantial          Airplane   \n",
       "63916    0812328W       Non-Fatal     Substantial          Airplane   \n",
       "63923    0764940W       Non-Fatal     Substantial          Airplane   \n",
       "\n",
       "                  Make    Model Amateur.Built  Number.of.Engines  \\\n",
       "63693           Cessna    C208B            No                1.0   \n",
       "63913  Barnard/Stancil  Glastar           Yes                1.0   \n",
       "63915           Cessna      152            No                1.0   \n",
       "63916            Beech      A36            No                1.0   \n",
       "63923   DEAN PATRICK G  GENESIS           Yes                1.0   \n",
       "\n",
       "         Engine.Type Purpose.of.flight  Total.Fatal.Injuries  \\\n",
       "63693     Turbo Prop          Business                   NaN   \n",
       "63913  Reciprocating          Personal                   0.0   \n",
       "63915  Reciprocating     Instructional                   0.0   \n",
       "63916  Reciprocating          Business                   0.0   \n",
       "63923  Reciprocating          Personal                   0.0   \n",
       "\n",
       "       Total.Serious.Injuries  Total.Minor.Injuries  Total.Uninjured  \\\n",
       "63693                     NaN                   NaN              2.0   \n",
       "63913                     0.0                   0.0              3.0   \n",
       "63915                     0.0                   0.0              1.0   \n",
       "63916                     0.0                   0.0              3.0   \n",
       "63923                     1.0                   0.0              0.0   \n",
       "\n",
       "      Weather.Condition  \n",
       "63693               VMC  \n",
       "63913               VMC  \n",
       "63915               VMC  \n",
       "63916               VMC  \n",
       "63923               VMC  "
      ]
     },
     "execution_count": 51,
     "metadata": {},
     "output_type": "execute_result"
    }
   ],
   "source": [
    "aviation_data.head()"
   ]
  },
  {
   "cell_type": "code",
   "execution_count": 52,
   "id": "eaf0ef7b",
   "metadata": {},
   "outputs": [],
   "source": [
    "# Fill missing data with 'Unknown' for categorical columns and 0 for numerical columns\n",
    "aviation_data.fillna({'Location': 'Unknown', 'InjurySeverity': 'Unknown', 'AircraftDamage': 'Unknown', 'AircraftCategory': 'Unknown', 'Make': 'Unknown', 'Model': 'Unknown'}, inplace=True)\n",
    "aviation_data.fillna(aviation_data.median(numeric_only = True), inplace=True)"
   ]
  },
  {
   "cell_type": "code",
   "execution_count": 53,
   "id": "d6053e9e",
   "metadata": {},
   "outputs": [
    {
     "data": {
      "text/plain": [
       "Investigation.Type        0\n",
       "Event.Date                0\n",
       "Location                  0\n",
       "Country                   0\n",
       "Latitude                  0\n",
       "Longitude                 0\n",
       "Injury.Severity           0\n",
       "Aircraft.damage           0\n",
       "Aircraft.Category         0\n",
       "Make                      0\n",
       "Model                     0\n",
       "Amateur.Built             0\n",
       "Number.of.Engines         0\n",
       "Engine.Type               0\n",
       "Purpose.of.flight         0\n",
       "Total.Fatal.Injuries      0\n",
       "Total.Serious.Injuries    0\n",
       "Total.Minor.Injuries      0\n",
       "Total.Uninjured           0\n",
       "Weather.Condition         0\n",
       "dtype: int64"
      ]
     },
     "execution_count": 53,
     "metadata": {},
     "output_type": "execute_result"
    }
   ],
   "source": [
    "# Check for missing values again to confirm they have been handled\n",
    "aviation_data.isnull().sum() "
   ]
  },
  {
   "cell_type": "code",
   "execution_count": 54,
   "id": "36ae489f",
   "metadata": {},
   "outputs": [],
   "source": [
    "# Convert event_date to datetime\n",
    "aviation_data['Event.Date'] = pd.to_datetime(aviation_data['Event.Date'], errors='coerce')"
   ]
  },
  {
   "cell_type": "code",
   "execution_count": 55,
   "id": "de5b0c72",
   "metadata": {},
   "outputs": [],
   "source": [
    "# Filter accidents from 2000 onwards for more relevant trends\n",
    "aviation_data = aviation_data[aviation_data['Event.Date'].dt.year >= 2000]"
   ]
  },
  {
   "cell_type": "markdown",
   "id": "10d60443",
   "metadata": {},
   "source": [
    "### 3. Data Imputation and Aggregation "
   ]
  },
  {
   "cell_type": "code",
   "execution_count": 56,
   "id": "a185377a",
   "metadata": {},
   "outputs": [],
   "source": [
    "# Create a risk score based on the number of injuries and fatalities\n",
    "# This is a simple scoring system where we assign weights to different types of injuries\n",
    "# Assume Fatal injuries > Serious injuries > Minor injuries > no injuries\n",
    "risk_weights = {\n",
    "    'Total.Fatal.Injuries': 4,  \n",
    "    'Total.Serious.Injuries': 2,  \n",
    "    'Total.Minor.Injuries': 1, \n",
    "    'Total.Uninjured': 0  \n",
    "}\n",
    "\n",
    "# Define the function to compute risk\n",
    "def compute_risk(row):\n",
    "    risk = 0\n",
    "    for col, weight in risk_weights.items():\n",
    "        if col in aviation_data.columns:  \n",
    "            risk += row[col] * weight\n",
    "    return risk\n",
    "\n",
    "# Apply the function to compute the risk score\n",
    "if 'Total.Fatal.Injuries' in aviation_data.columns:\n",
    "    aviation_data['risk_score'] = aviation_data.apply(compute_risk, axis=1)\n",
    "else:\n",
    "    aviation_data['risk_score'] = 0\n"
   ]
  },
  {
   "cell_type": "code",
   "execution_count": 57,
   "id": "f6374246",
   "metadata": {},
   "outputs": [
    {
     "name": "stdout",
     "output_type": "stream",
     "text": [
      "       Total.Fatal.Injuries  Total.Serious.Injuries  Total.Minor.Injuries  \\\n",
      "63693                   0.0                     0.0                   0.0   \n",
      "63913                   0.0                     0.0                   0.0   \n",
      "63915                   0.0                     0.0                   0.0   \n",
      "63916                   0.0                     0.0                   0.0   \n",
      "63923                   0.0                     1.0                   0.0   \n",
      "\n",
      "       Total.Uninjured  risk_score  \n",
      "63693              2.0         0.0  \n",
      "63913              3.0         0.0  \n",
      "63915              1.0         0.0  \n",
      "63916              3.0         0.0  \n",
      "63923              0.0         2.0  \n"
     ]
    }
   ],
   "source": [
    "# Verify the results\n",
    "print(aviation_data[['Total.Fatal.Injuries', 'Total.Serious.Injuries', 'Total.Minor.Injuries', 'Total.Uninjured', 'risk_score']].head())"
   ]
  },
  {
   "cell_type": "code",
   "execution_count": 58,
   "id": "370582af",
   "metadata": {},
   "outputs": [],
   "source": [
    "# Aggregate by Aircraft Make and Model\n",
    "aircraft_summary = aviation_data.groupby(['Make', 'Model']).agg({\n",
    "    'Total.Fatal.Injuries': 'sum',  \n",
    "    'Total.Serious.Injuries': 'sum',\n",
    "    'Total.Minor.Injuries': 'sum',\n",
    "    'Total.Uninjured': 'sum',\n",
    "    'risk_score': 'mean'\n",
    "}).reset_index()\n"
   ]
  },
  {
   "cell_type": "code",
   "execution_count": 59,
   "id": "da262534",
   "metadata": {},
   "outputs": [
    {
     "name": "stdout",
     "output_type": "stream",
     "text": [
      "             Make      Model  Total.Fatal.Injuries  Total.Serious.Injuries  \\\n",
      "0     2021FX3 LLC   CCX-2000                   0.0                     0.0   \n",
      "1      781569 INC     FX 210                   0.0                     3.0   \n",
      "2           ADAMS  DRAGONFLY                   0.0                     0.0   \n",
      "3  AERO ADVENTURE  ZEPHYR II                   1.0                     0.0   \n",
      "4  AERO AT SP ZOO   AT-4 LSA                   0.0                     0.0   \n",
      "\n",
      "   Total.Minor.Injuries  Total.Uninjured  risk_score  \n",
      "0                   0.0              2.0         0.0  \n",
      "1                   0.0              0.0         6.0  \n",
      "2                   0.0              1.0         0.0  \n",
      "3                   0.0              0.0         4.0  \n",
      "4                   1.0              0.0         1.0  \n"
     ]
    }
   ],
   "source": [
    "# Preview the aggregated summary\n",
    "print(aircraft_summary.head())"
   ]
  },
  {
   "cell_type": "code",
   "execution_count": 60,
   "id": "669231a6",
   "metadata": {},
   "outputs": [],
   "source": [
    "# Create a new column for the year of the accident\n",
    "if 'accident_count' not in aircraft_summary.columns:\n",
    "    # Create 'accident_count' by summing up all injury-related columns\n",
    "    aircraft_summary['accident_count'] = (\n",
    "        aircraft_summary['Total.Fatal.Injuries'] +\n",
    "        aircraft_summary['Total.Serious.Injuries'] +\n",
    "        aircraft_summary['Total.Minor.Injuries'] +\n",
    "        aircraft_summary['Total.Uninjured']\n",
    "    )\n"
   ]
  },
  {
   "cell_type": "code",
   "execution_count": 61,
   "id": "c1f4571a",
   "metadata": {},
   "outputs": [
    {
     "name": "stdout",
     "output_type": "stream",
     "text": [
      "             Make      Model  accident_count  accidents_per_year\n",
      "0     2021FX3 LLC   CCX-2000             2.0            0.083333\n",
      "1      781569 INC     FX 210             3.0            0.125000\n",
      "2           ADAMS  DRAGONFLY             1.0            0.041667\n",
      "3  AERO ADVENTURE  ZEPHYR II             1.0            0.041667\n",
      "4  AERO AT SP ZOO   AT-4 LSA             1.0            0.041667\n"
     ]
    }
   ],
   "source": [
    "# Calculate the number of years in the dataset\n",
    "years_of_data = 2023 - 2000 + 1\n",
    "\n",
    "# Calculate accidents per year\n",
    "aircraft_summary['accidents_per_year'] = aircraft_summary['accident_count'] / years_of_data\n",
    "\n",
    "# Preview the updated DataFrame\n",
    "print(aircraft_summary[['Make', 'Model', 'accident_count', 'accidents_per_year']].head())"
   ]
  },
  {
   "cell_type": "markdown",
   "id": "79ee545f",
   "metadata": {},
   "source": [
    "### 4. Data Visualization"
   ]
  },
  {
   "cell_type": "code",
   "execution_count": 62,
   "id": "80ba6bee",
   "metadata": {},
   "outputs": [
    {
     "data": {
      "image/png": "[encoded data removed]",
      "text/plain": [
       "<Figure size 864x576 with 1 Axes>"
      ]
     },
     "metadata": {
      "needs_background": "light"
     },
     "output_type": "display_data"
    }
   ],
   "source": [
    "# Plot a bar chart of the top 10 aircraft makes with the highest number of accidents\n",
    "plt.figure(figsize=(12, 8))\n",
    "top_aircraft = aircraft_summary.nlargest(10, 'accident_count')\n",
    "sns.barplot(x='Make', y='accident_count', data=top_aircraft)\n",
    "plt.title('Top 10 Aircraft Makes with Highest Number of Accidents (2000-2023)', fontsize=16)\n",
    "plt.xlabel('Aircraft Make')\n",
    "plt.ylabel('Number of Accidents')\n",
    "plt.show()"
   ]
  },
  {
   "cell_type": "code",
   "execution_count": 63,
   "id": "4c336e44",
   "metadata": {},
   "outputs": [
    {
     "data": {
      "image/png": "[encoded data removed]",
      "text/plain": [
       "<Figure size 864x576 with 1 Axes>"
      ]
     },
     "metadata": {
      "needs_background": "light"
     },
     "output_type": "display_data"
    }
   ],
   "source": [
    "# Plot a scatter plot of accidents per year vs. risk score for the top 10 aircraft makes\n",
    "plt.figure(figsize=(12, 8))\n",
    "top_aircraft = aircraft_summary.nlargest(10, 'accidents_per_year')\n",
    "sns.scatterplot(x='accidents_per_year', y='risk_score', hue='Make', data=top_aircraft, s=100)\n",
    "plt.title('Accidents per Year vs. Risk Score for Top 10 Aircraft Makes (2000-2023)', fontsize=16)\n",
    "plt.xlabel('Accidents per Year')\n",
    "plt.ylabel('Risk Score')\n",
    "plt.legend(title='Aircraft Make')\n",
    "plt.show()\n"
   ]
  },
  {
   "cell_type": "code",
   "execution_count": 64,
   "id": "d2e6afbe",
   "metadata": {},
   "outputs": [
    {
     "data": {
      "image/png": "[encoded data removed]",
      "text/plain": [
       "<Figure size 864x576 with 2 Axes>"
      ]
     },
     "metadata": {
      "needs_background": "light"
     },
     "output_type": "display_data"
    }
   ],
   "source": [
    "# Plot a heatmap of the correlation matrix for the numerical columns in the dataset\n",
    "plt.figure(figsize=(12, 8))\n",
    "correlation_matrix = aviation_data.corr()\n",
    "sns.heatmap(correlation_matrix, annot=True, fmt=\".2f\", cmap='coolwarm', square=True, cbar_kws={\"shrink\": .8})\n",
    "plt.title('Correlation Matrix Heatmap', fontsize=16)\n",
    "plt.show() "
   ]
  },
  {
   "cell_type": "markdown",
   "id": "9785bfa6",
   "metadata": {},
   "source": [
    "### 5. Recommendations "
   ]
  },
  {
   "cell_type": "code",
   "execution_count": 65,
   "id": "eb02337e",
   "metadata": {},
   "outputs": [
    {
     "name": "stdout",
     "output_type": "stream",
     "text": [
      "Recommendation: Consider acquiring the 2021FX3 LLC CCX-2000 with a risk score of 0.00 to minimize operational risks.\n"
     ]
    }
   ],
   "source": [
    "# Recommendation 1: Focus on acquiring low-risk aircraft models\n",
    "safest_aircraft = aircraft_summary.sort_values(by='risk_score').head(1)\n",
    "print(f\"Recommendation: Consider acquiring the {safest_aircraft.iloc[0]['Make']} {safest_aircraft.iloc[0]['Model']} with a risk score of {safest_aircraft.iloc[0]['risk_score']:.2f} to minimize operational risks.\")"
   ]
  },
  {
   "cell_type": "code",
   "execution_count": 66,
   "id": "d185a349",
   "metadata": {},
   "outputs": [
    {
     "name": "stdout",
     "output_type": "stream",
     "text": [
      "Recommendation: Avoid acquiring the Textron Aviation B-300 with a high risk score of 40.00 to reduce operational risks.\n"
     ]
    }
   ],
   "source": [
    "# Recommendation 2: Avoid high-risk aircraft models\n",
    "riskiest_aircraft = aircraft_summary.sort_values(by='risk_score', ascending=False).head(1)\n",
    "print(f\"Recommendation: Avoid acquiring the {riskiest_aircraft.iloc[0]['Make']} {riskiest_aircraft.iloc[0]['Model']} with a high risk score of {riskiest_aircraft.iloc[0]['risk_score']:.2f} to reduce operational risks.\")"
   ]
  },
  {
   "cell_type": "code",
   "execution_count": 67,
   "id": "a670f3f3",
   "metadata": {},
   "outputs": [
    {
     "name": "stdout",
     "output_type": "stream",
     "text": [
      "Recommendation: Consider acquiring the THRUSH AIRCRAFT LLC S2R-T660 with only 0.0 recorded accidents.\n"
     ]
    }
   ],
   "source": [
    "# Recommendation 3: Focus on aircraft models with the lowest accident counts\n",
    "safest_aircraft = aircraft_summary.sort_values(by='accident_count').head(1)\n",
    "print(f\"Recommendation: Consider acquiring the {safest_aircraft.iloc[0]['Make']} {safest_aircraft.iloc[0]['Model']} with only {safest_aircraft.iloc[0]['accident_count']} recorded accidents.\")"
   ]
  },
  {
   "cell_type": "code",
   "execution_count": 68,
   "id": "982f94c6",
   "metadata": {},
   "outputs": [
    {
     "name": "stdout",
     "output_type": "stream",
     "text": [
      "Recommendation: Prioritize operations during 'VMC' conditions, which have the highest recorded safety.\n"
     ]
    }
   ],
   "source": [
    "# Recommendation 4: Focus on operations during the safest weather conditions\n",
    "weather_safety = aviation_data['Weather.Condition'].value_counts()\n",
    "safest_weather = weather_safety.idxmax()\n",
    "print(f\"Recommendation: Prioritize operations during '{safest_weather}' conditions, which have the highest recorded safety.\")"
   ]
  },
  {
   "cell_type": "code",
   "execution_count": 69,
   "id": "21ff022c",
   "metadata": {},
   "outputs": [
    {
     "name": "stdout",
     "output_type": "stream",
     "text": [
      "Recommendation: Prioritize safety measures in Phoenix, AZ, which has the highest number of recorded accidents.\n"
     ]
    }
   ],
   "source": [
    "# Recommendation 5: Focus on improving safety in the most accident-prone locations\n",
    "top_location = aviation_data['Location'].value_counts().idxmax()\n",
    "print(f\"Recommendation: Prioritize safety measures in {top_location}, which has the highest number of recorded accidents.\")"
   ]
  },
  {
   "cell_type": "code",
   "execution_count": 71,
   "id": "b20a5757",
   "metadata": {},
   "outputs": [],
   "source": [
    "# Saving the cleaned dataset as a CSV file for future use\n",
    "aviation_data.to_csv(r\"data\\Cleaned_AviationData.csv\", index=False)"
   ]
  },
  {
   "cell_type": "markdown",
   "id": "afa742f7",
   "metadata": {},
   "source": [
    "### 6. Conclusion\n",
    "- The analysis provides insights into the most common aircraft makes and models involved in accidents, the risk scores associated with different aircraft, and the trends in aviation accidents over time.\n",
    "- The company can use this information to make informed decisions about aircraft purchases, safety measures, and risk management strategies.\n",
    "- The analysis also highlights the importance of data-driven decision-making in the aviation industry, and how data can be used to improve safety and reduce risks.\n",
    "- The company can leverage this analysis to enhance its safety protocols, improve training programs, and develop strategies to mitigate risks associated with specific aircraft makes and models.\n",
    "- Overall, the analysis provides a comprehensive overview of aviation accidents and their associated risks, enabling the company to make informed decisions in the aviation industry.\n",
    "- The analysis also emphasizes the importance of continuous monitoring and evaluation of aviation safety data to identify trends and areas for improvement.\n",
    "- By leveraging data analytics, the company can enhance its safety measures, improve operational efficiency, and ultimately contribute to a safer aviation environment for all stakeholders involved.\n",
    "- The analysis serves as a foundation for further research and exploration in the field of aviation safety, and encourages the company to stay proactive in addressing potential risks and challenges in the aviation industry.\n",
    "- The company can also consider collaborating with aviation safety organizations and regulatory bodies to share insights and best practices, further enhancing its commitment to safety and risk management in the aviation sector.\n"
   ]
  }
 ],
 "metadata": {
  "kernelspec": {
   "display_name": "learn-env",
   "language": "python",
   "name": "python3"
  },
  "language_info": {
   "codemirror_mode": {
    "name": "ipython",
    "version": 3
   },
   "file_extension": ".py",
   "mimetype": "text/x-python",
   "name": "python",
   "nbconvert_exporter": "python",
   "pygments_lexer": "ipython3",
   "version": "3.8.5"
  }
 },
 "nbformat": 4,
 "nbformat_minor": 5
}
