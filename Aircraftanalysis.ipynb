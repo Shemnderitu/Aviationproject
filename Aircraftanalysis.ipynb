{
 "cells": [
  {
   "cell_type": "markdown",
   "id": "3189f3fe",
   "metadata": {},
   "source": [
    "# PROJECT TITLE: RISK PROFILING FOR AIRCRAFT ACQUISITION\n"
   ]
  },
  {
   "cell_type": "markdown",
   "id": "35c94153",
   "metadata": {},
   "source": [
    "## Project Overview\n",
    "- AeroTrust Company is expanding into new industries to diversify its portfolio. The company is interested in purchasing and operating airplanes for commercial and private enterprises.\n",
    "- In this project we will analyze a dataset from the National Transportation Safety Board (NTSB) that includes aviation accident data from 1962 to 2023 about civil aviation accidents and selected incidents in the United States and International waters.\n",
    "- The goal is to analyze NTSB accident data to determine which aircraft are the lowest risk for the company to start a new business endeavor.\n",
    "- This project will use data science techniques such as data cleaning, imputation, analysis, and visualization to generate insights for a business stakeholder. \n",
    "- At the end, this data-driven analysis will yield concrete business recommendations for how the company will move forward with the new aviation opportunity.\n"
   ]
  },
  {
   "cell_type": "markdown",
   "id": "d9a874b0",
   "metadata": {},
   "source": [
    "## Aircraft Risk Analysis"
   ]
  },
  {
   "cell_type": "code",
   "execution_count": 5,
   "id": "0ed3fa86",
   "metadata": {},
   "outputs": [],
   "source": [
    "# Import all libraries needed for data analysis\n",
    "import pandas as pd\n",
    "import numpy as np\n",
    "import matplotlib.pyplot as plt\n",
    "import seaborn as sns"
   ]
  },
  {
   "cell_type": "code",
   "execution_count": 6,
   "id": "f2bb5326",
   "metadata": {},
   "outputs": [],
   "source": [
    "# Load the dataset from NTSB that includes aviation accident data from 1962 to 2023\n",
    "aviation_data = pd.read_csv(\"data\\AviationData.csv\", encoding='ISO-8859-1', low_memory=False, delimiter=',')"
   ]
  }
 ],
 "metadata": {
  "kernelspec": {
   "display_name": "learn-env",
   "language": "python",
   "name": "python3"
  },
  "language_info": {
   "codemirror_mode": {
    "name": "ipython",
    "version": 3
   },
   "file_extension": ".py",
   "mimetype": "text/x-python",
   "name": "python",
   "nbconvert_exporter": "python",
   "pygments_lexer": "ipython3",
   "version": "3.8.5"
  }
 },
 "nbformat": 4,
 "nbformat_minor": 5
}
